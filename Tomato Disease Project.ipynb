{
 "cells": [
  {
   "cell_type": "code",
   "execution_count": 1,
   "id": "fd9aa8f7",
   "metadata": {},
   "outputs": [
    {
     "name": "stdout",
     "output_type": "stream",
     "text": [
      "WARNING:tensorflow:From C:\\Users\\Open user\\anaconda3\\Lib\\site-packages\\keras\\src\\losses.py:2976: The name tf.losses.sparse_softmax_cross_entropy is deprecated. Please use tf.compat.v1.losses.sparse_softmax_cross_entropy instead.\n",
      "\n"
     ]
    }
   ],
   "source": [
    "import tensorflow as tf\n",
    "from tensorflow.keras import layers, models\n",
    "\n",
    "import matplotlib.pyplot as plt\n",
    "import numpy as np\n",
    "from IPython.display import HTML\n",
    "\n",
    "from tensorflow.keras.preprocessing.image import ImageDataGenerator\n",
    "\n",
    "import warnings\n",
    "warnings.filterwarnings(\"ignore\")"
   ]
  },
  {
   "cell_type": "code",
   "execution_count": 2,
   "id": "9e87489e",
   "metadata": {},
   "outputs": [],
   "source": [
    "#pip install split-folders"
   ]
  },
  {
   "cell_type": "markdown",
   "id": "e34b2b09",
   "metadata": {},
   "source": [
    "# Splitting the dataset into train validation and test sets using splitfolders"
   ]
  },
  {
   "cell_type": "code",
   "execution_count": 3,
   "id": "06f26155",
   "metadata": {},
   "outputs": [],
   "source": [
    "import splitfolders\n",
    "\n",
    "#splitfolders.ratio(\"./tomatoplants/\", output=\"dataset\", seed=234, ratio=(.75, .1, .15))"
   ]
  },
  {
   "cell_type": "code",
   "execution_count": 4,
   "id": "7070b5df",
   "metadata": {},
   "outputs": [],
   "source": [
    "imageSize= 256\n",
    "channels= 3\n",
    "batchSize= 32"
   ]
  },
  {
   "cell_type": "markdown",
   "id": "3fd46039",
   "metadata": {},
   "source": [
    "# Augmenting and reading the dataset "
   ]
  },
  {
   "cell_type": "code",
   "execution_count": 5,
   "id": "160bb5ff",
   "metadata": {},
   "outputs": [
    {
     "name": "stdout",
     "output_type": "stream",
     "text": [
      "Found 12006 images belonging to 10 classes.\n"
     ]
    }
   ],
   "source": [
    "train_datagenerator= ImageDataGenerator(rescale= 1.0/255,\n",
    "                                        horizontal_flip=True,\n",
    "                                        rotation_range=10)\n",
    "\n",
    "train_dataset= train_datagenerator.flow_from_directory('dataset/train',\n",
    "                                                       target_size= (imageSize, imageSize),\n",
    "                                                       batch_size= batchSize,\n",
    "                                                       class_mode= \"sparse\"\n",
    "                                                      )"
   ]
  },
  {
   "cell_type": "code",
   "execution_count": 6,
   "id": "a3029b46",
   "metadata": {},
   "outputs": [
    {
     "data": {
      "text/plain": [
       "{'Tomato_Bacterial_spot': 0,\n",
       " 'Tomato_Early_blight': 1,\n",
       " 'Tomato_Late_blight': 2,\n",
       " 'Tomato_Leaf_Mold': 3,\n",
       " 'Tomato_Septoria_leaf_spot': 4,\n",
       " 'Tomato_Spider_mites_Two_spotted_spider_mite': 5,\n",
       " 'Tomato__Target_Spot': 6,\n",
       " 'Tomato__Tomato_YellowLeaf__Curl_Virus': 7,\n",
       " 'Tomato__Tomato_mosaic_virus': 8,\n",
       " 'Tomato_healthy': 9}"
      ]
     },
     "execution_count": 6,
     "metadata": {},
     "output_type": "execute_result"
    }
   ],
   "source": [
    "train_dataset.class_indices"
   ]
  },
  {
   "cell_type": "code",
   "execution_count": 7,
   "id": "fd42fa4f",
   "metadata": {},
   "outputs": [
    {
     "data": {
      "text/plain": [
       "['Tomato_Bacterial_spot',\n",
       " 'Tomato_Early_blight',\n",
       " 'Tomato_Late_blight',\n",
       " 'Tomato_Leaf_Mold',\n",
       " 'Tomato_Septoria_leaf_spot',\n",
       " 'Tomato_Spider_mites_Two_spotted_spider_mite',\n",
       " 'Tomato__Target_Spot',\n",
       " 'Tomato__Tomato_YellowLeaf__Curl_Virus',\n",
       " 'Tomato__Tomato_mosaic_virus',\n",
       " 'Tomato_healthy']"
      ]
     },
     "execution_count": 7,
     "metadata": {},
     "output_type": "execute_result"
    }
   ],
   "source": [
    "list(train_dataset.class_indices.keys())"
   ]
  },
  {
   "cell_type": "code",
   "execution_count": 8,
   "id": "2fe4f032",
   "metadata": {},
   "outputs": [],
   "source": [
    "classNames= list(train_dataset.class_indices.keys())"
   ]
  },
  {
   "cell_type": "code",
   "execution_count": 9,
   "id": "9e0f043c",
   "metadata": {},
   "outputs": [
    {
     "name": "stdout",
     "output_type": "stream",
     "text": [
      "Found 1596 images belonging to 10 classes.\n"
     ]
    }
   ],
   "source": [
    "validation_datagenerator= ImageDataGenerator(rescale=1.0/255,\n",
    "                                            horizontal_flip= True,\n",
    "                                            rotation_range= 10\n",
    "                                           )\n",
    "\n",
    "validation_dataset= validation_datagenerator.flow_from_directory('dataset/val',\n",
    "                                                                 target_size= (imageSize, imageSize),\n",
    "                                                                 batch_size= batchSize,\n",
    "                                                                 class_mode= \"sparse\")"
   ]
  },
  {
   "cell_type": "code",
   "execution_count": 10,
   "id": "0f00ec85",
   "metadata": {},
   "outputs": [
    {
     "name": "stdout",
     "output_type": "stream",
     "text": [
      "Found 1596 images belonging to 10 classes.\n"
     ]
    }
   ],
   "source": [
    "test_datagenerator= ImageDataGenerator(rescale=1.0/255,\n",
    "                                            horizontal_flip= True,\n",
    "                                            rotation_range= 10\n",
    "                                           )\n",
    "\n",
    "test_dataset= validation_datagenerator.flow_from_directory('dataset/val',\n",
    "                                                                 target_size= (imageSize, imageSize),\n",
    "                                                                 batch_size= batchSize,\n",
    "                                                                 class_mode= \"sparse\")"
   ]
  },
  {
   "cell_type": "code",
   "execution_count": 11,
   "id": "8290c733",
   "metadata": {},
   "outputs": [
    {
     "name": "stdout",
     "output_type": "stream",
     "text": [
      "(256, 256, 3)\n",
      "(32, 256, 256, 3)\n",
      "[0. 7. 5. 7. 2. 2. 6. 7. 0. 2. 3. 6. 0. 1. 0. 2. 3. 2. 9. 9. 5. 7. 3. 8.\n",
      " 1. 0. 4. 6. 0. 9. 0. 2.]\n"
     ]
    }
   ],
   "source": [
    "for image_batch, label_batch in train_dataset:\n",
    "    print(image_batch[0].shape)\n",
    "    print(image_batch.shape)\n",
    "    print(label_batch)\n",
    "    break"
   ]
  },
  {
   "cell_type": "markdown",
   "id": "b25d6ec0",
   "metadata": {},
   "source": [
    "# Building the model"
   ]
  },
  {
   "cell_type": "code",
   "execution_count": 12,
   "id": "65c7711f",
   "metadata": {},
   "outputs": [
    {
     "name": "stdout",
     "output_type": "stream",
     "text": [
      "WARNING:tensorflow:From C:\\Users\\Open user\\anaconda3\\Lib\\site-packages\\keras\\src\\backend.py:1398: The name tf.executing_eagerly_outside_functions is deprecated. Please use tf.compat.v1.executing_eagerly_outside_functions instead.\n",
      "\n",
      "WARNING:tensorflow:From C:\\Users\\Open user\\anaconda3\\Lib\\site-packages\\keras\\src\\layers\\pooling\\max_pooling2d.py:161: The name tf.nn.max_pool is deprecated. Please use tf.nn.max_pool2d instead.\n",
      "\n"
     ]
    }
   ],
   "source": [
    "inputShape= (imageSize, imageSize, channels)\n",
    "n_class= 10\n",
    "\n",
    "model= models.Sequential([\n",
    "    layers.InputLayer(input_shape=inputShape),\n",
    "    layers.Conv2D(32, (3,3), activation='relu'),\n",
    "    layers.MaxPooling2D((2,2)),\n",
    "    layers.Conv2D(64, (3,3), activation='relu'),\n",
    "    layers.MaxPooling2D((2,2)),\n",
    "    layers.Conv2D(64, (3,3), activation='relu'),\n",
    "    layers.MaxPooling2D((2,2)),\n",
    "    layers.Conv2D(64, (3,3), activation='relu'),\n",
    "    layers.MaxPooling2D((2,2)),\n",
    "    layers.Conv2D(64, (3,3), activation='relu'),\n",
    "    layers.MaxPooling2D((2,2)),\n",
    "    layers.Conv2D(64, (3,3), activation='relu'),\n",
    "    layers.MaxPooling2D((2,2)),\n",
    "    layers.Flatten(),\n",
    "    layers.Dense(64, activation='relu'),\n",
    "    layers.Dense(n_class, activation='softmax')\n",
    "])\n",
    "\n",
    "model.build(input_shape=inputShape)"
   ]
  },
  {
   "cell_type": "code",
   "execution_count": 13,
   "id": "9be70500",
   "metadata": {},
   "outputs": [
    {
     "name": "stdout",
     "output_type": "stream",
     "text": [
      "Model: \"sequential\"\n",
      "_________________________________________________________________\n",
      " Layer (type)                Output Shape              Param #   \n",
      "=================================================================\n",
      " conv2d (Conv2D)             (None, 254, 254, 32)      896       \n",
      "                                                                 \n",
      " max_pooling2d (MaxPooling2  (None, 127, 127, 32)      0         \n",
      " D)                                                              \n",
      "                                                                 \n",
      " conv2d_1 (Conv2D)           (None, 125, 125, 64)      18496     \n",
      "                                                                 \n",
      " max_pooling2d_1 (MaxPoolin  (None, 62, 62, 64)        0         \n",
      " g2D)                                                            \n",
      "                                                                 \n",
      " conv2d_2 (Conv2D)           (None, 60, 60, 64)        36928     \n",
      "                                                                 \n",
      " max_pooling2d_2 (MaxPoolin  (None, 30, 30, 64)        0         \n",
      " g2D)                                                            \n",
      "                                                                 \n",
      " conv2d_3 (Conv2D)           (None, 28, 28, 64)        36928     \n",
      "                                                                 \n",
      " max_pooling2d_3 (MaxPoolin  (None, 14, 14, 64)        0         \n",
      " g2D)                                                            \n",
      "                                                                 \n",
      " conv2d_4 (Conv2D)           (None, 12, 12, 64)        36928     \n",
      "                                                                 \n",
      " max_pooling2d_4 (MaxPoolin  (None, 6, 6, 64)          0         \n",
      " g2D)                                                            \n",
      "                                                                 \n",
      " conv2d_5 (Conv2D)           (None, 4, 4, 64)          36928     \n",
      "                                                                 \n",
      " max_pooling2d_5 (MaxPoolin  (None, 2, 2, 64)          0         \n",
      " g2D)                                                            \n",
      "                                                                 \n",
      " flatten (Flatten)           (None, 256)               0         \n",
      "                                                                 \n",
      " dense (Dense)               (None, 64)                16448     \n",
      "                                                                 \n",
      " dense_1 (Dense)             (None, 10)                650       \n",
      "                                                                 \n",
      "=================================================================\n",
      "Total params: 184202 (719.54 KB)\n",
      "Trainable params: 184202 (719.54 KB)\n",
      "Non-trainable params: 0 (0.00 Byte)\n",
      "_________________________________________________________________\n"
     ]
    }
   ],
   "source": [
    "model.summary()"
   ]
  },
  {
   "cell_type": "code",
   "execution_count": 14,
   "id": "42cb026c",
   "metadata": {},
   "outputs": [
    {
     "name": "stdout",
     "output_type": "stream",
     "text": [
      "WARNING:tensorflow:From C:\\Users\\Open user\\anaconda3\\Lib\\site-packages\\keras\\src\\optimizers\\__init__.py:309: The name tf.train.Optimizer is deprecated. Please use tf.compat.v1.train.Optimizer instead.\n",
      "\n"
     ]
    }
   ],
   "source": [
    "model.compile(optimizer='adam',\n",
    "              loss= tf.keras.losses.SparseCategoricalCrossentropy(from_logits=False),\n",
    "              metrics= [\"accuracy\"]\n",
    "             )"
   ]
  },
  {
   "cell_type": "code",
   "execution_count": 15,
   "id": "61bb26f9",
   "metadata": {},
   "outputs": [
    {
     "data": {
      "text/plain": [
       "375.1875"
      ]
     },
     "execution_count": 15,
     "metadata": {},
     "output_type": "execute_result"
    }
   ],
   "source": [
    "12006/32"
   ]
  },
  {
   "cell_type": "code",
   "execution_count": 16,
   "id": "0cfa1e99",
   "metadata": {},
   "outputs": [
    {
     "data": {
      "text/plain": [
       "49.875"
      ]
     },
     "execution_count": 16,
     "metadata": {},
     "output_type": "execute_result"
    }
   ],
   "source": [
    "1596/32 "
   ]
  },
  {
   "cell_type": "code",
   "execution_count": 17,
   "id": "b0c65458",
   "metadata": {},
   "outputs": [
    {
     "name": "stdout",
     "output_type": "stream",
     "text": [
      "Epoch 1/30\n",
      "WARNING:tensorflow:From C:\\Users\\Open user\\anaconda3\\Lib\\site-packages\\keras\\src\\utils\\tf_utils.py:492: The name tf.ragged.RaggedTensorValue is deprecated. Please use tf.compat.v1.ragged.RaggedTensorValue instead.\n",
      "\n",
      "WARNING:tensorflow:From C:\\Users\\Open user\\anaconda3\\Lib\\site-packages\\keras\\src\\engine\\base_layer_utils.py:384: The name tf.executing_eagerly_outside_functions is deprecated. Please use tf.compat.v1.executing_eagerly_outside_functions instead.\n",
      "\n",
      "375/375 [==============================] - 366s 971ms/step - loss: 1.5917 - accuracy: 0.4469 - val_loss: 1.1190 - val_accuracy: 0.6320\n",
      "Epoch 2/30\n",
      "375/375 [==============================] - 371s 989ms/step - loss: 0.9583 - accuracy: 0.6720 - val_loss: 0.7240 - val_accuracy: 0.7385\n",
      "Epoch 3/30\n",
      "375/375 [==============================] - 389s 1s/step - loss: 0.6330 - accuracy: 0.7845 - val_loss: 0.5249 - val_accuracy: 0.8131\n",
      "Epoch 4/30\n",
      "375/375 [==============================] - 397s 1s/step - loss: 0.4662 - accuracy: 0.8407 - val_loss: 0.3714 - val_accuracy: 0.8737\n",
      "Epoch 5/30\n",
      "375/375 [==============================] - 391s 1s/step - loss: 0.3855 - accuracy: 0.8700 - val_loss: 0.3673 - val_accuracy: 0.8693\n",
      "Epoch 6/30\n",
      "375/375 [==============================] - 398s 1s/step - loss: 0.3358 - accuracy: 0.8876 - val_loss: 0.2731 - val_accuracy: 0.9043\n",
      "Epoch 7/30\n",
      "375/375 [==============================] - 381s 1s/step - loss: 0.2753 - accuracy: 0.9067 - val_loss: 0.2127 - val_accuracy: 0.9356\n",
      "Epoch 8/30\n",
      "375/375 [==============================] - 382s 1s/step - loss: 0.2508 - accuracy: 0.9110 - val_loss: 0.2179 - val_accuracy: 0.9235\n",
      "Epoch 9/30\n",
      "375/375 [==============================] - 395s 1s/step - loss: 0.2193 - accuracy: 0.9248 - val_loss: 0.2029 - val_accuracy: 0.9318\n",
      "Epoch 10/30\n",
      "375/375 [==============================] - 377s 1s/step - loss: 0.2039 - accuracy: 0.9288 - val_loss: 0.2324 - val_accuracy: 0.9171\n",
      "Epoch 11/30\n",
      "375/375 [==============================] - 373s 993ms/step - loss: 0.1806 - accuracy: 0.9388 - val_loss: 0.1788 - val_accuracy: 0.9432\n",
      "Epoch 12/30\n",
      "375/375 [==============================] - 383s 1s/step - loss: 0.1583 - accuracy: 0.9461 - val_loss: 0.1555 - val_accuracy: 0.9483\n",
      "Epoch 13/30\n",
      "375/375 [==============================] - 394s 1s/step - loss: 0.1573 - accuracy: 0.9470 - val_loss: 0.1727 - val_accuracy: 0.9426\n",
      "Epoch 14/30\n",
      "375/375 [==============================] - 387s 1s/step - loss: 0.1509 - accuracy: 0.9488 - val_loss: 0.1834 - val_accuracy: 0.9349\n",
      "Epoch 15/30\n",
      "375/375 [==============================] - 379s 1s/step - loss: 0.1304 - accuracy: 0.9553 - val_loss: 0.1954 - val_accuracy: 0.9356\n",
      "Epoch 16/30\n",
      "375/375 [==============================] - 386s 1s/step - loss: 0.1246 - accuracy: 0.9552 - val_loss: 0.1884 - val_accuracy: 0.9349\n",
      "Epoch 17/30\n",
      "375/375 [==============================] - 390s 1s/step - loss: 0.1154 - accuracy: 0.9583 - val_loss: 0.1647 - val_accuracy: 0.9401\n",
      "Epoch 18/30\n",
      "375/375 [==============================] - 386s 1s/step - loss: 0.1217 - accuracy: 0.9585 - val_loss: 0.1599 - val_accuracy: 0.9426\n",
      "Epoch 19/30\n",
      "375/375 [==============================] - 397s 1s/step - loss: 0.1040 - accuracy: 0.9638 - val_loss: 0.1362 - val_accuracy: 0.9528\n",
      "Epoch 20/30\n",
      "375/375 [==============================] - 437s 1s/step - loss: 0.0882 - accuracy: 0.9690 - val_loss: 0.1673 - val_accuracy: 0.9477\n",
      "Epoch 21/30\n",
      "375/375 [==============================] - 400s 1s/step - loss: 0.0889 - accuracy: 0.9685 - val_loss: 0.1034 - val_accuracy: 0.9643\n",
      "Epoch 22/30\n",
      "375/375 [==============================] - 384s 1s/step - loss: 0.0952 - accuracy: 0.9668 - val_loss: 0.2452 - val_accuracy: 0.9209\n",
      "Epoch 23/30\n",
      "375/375 [==============================] - 396s 1s/step - loss: 0.0893 - accuracy: 0.9693 - val_loss: 0.1403 - val_accuracy: 0.9598\n",
      "Epoch 24/30\n",
      "375/375 [==============================] - 392s 1s/step - loss: 0.0931 - accuracy: 0.9661 - val_loss: 0.1096 - val_accuracy: 0.9617\n",
      "Epoch 25/30\n",
      "375/375 [==============================] - 393s 1s/step - loss: 0.0912 - accuracy: 0.9680 - val_loss: 0.1289 - val_accuracy: 0.9515\n",
      "Epoch 26/30\n",
      "375/375 [==============================] - 404s 1s/step - loss: 0.0839 - accuracy: 0.9703 - val_loss: 0.1592 - val_accuracy: 0.9522\n",
      "Epoch 27/30\n",
      "375/375 [==============================] - 381s 1s/step - loss: 0.0854 - accuracy: 0.9703 - val_loss: 0.0855 - val_accuracy: 0.9713\n",
      "Epoch 28/30\n",
      "375/375 [==============================] - 380s 1s/step - loss: 0.0575 - accuracy: 0.9802 - val_loss: 0.1260 - val_accuracy: 0.9566\n",
      "Epoch 29/30\n",
      "375/375 [==============================] - 481s 1s/step - loss: 0.0960 - accuracy: 0.9659 - val_loss: 0.1776 - val_accuracy: 0.9381\n",
      "Epoch 30/30\n",
      "375/375 [==============================] - 402s 1s/step - loss: 0.0628 - accuracy: 0.9793 - val_loss: 0.1565 - val_accuracy: 0.9496\n"
     ]
    }
   ],
   "source": [
    "history= model.fit(\n",
    "    train_dataset, \n",
    "    steps_per_epoch= 375,\n",
    "    batch_size= 32,\n",
    "    validation_data=validation_dataset,\n",
    "    validation_steps=49,\n",
    "    verbose=1,\n",
    "    epochs=30\n",
    ")"
   ]
  },
  {
   "cell_type": "markdown",
   "id": "acff3d3d",
   "metadata": {},
   "source": [
    "# Model Evaluation"
   ]
  },
  {
   "cell_type": "code",
   "execution_count": 20,
   "id": "f70ec755",
   "metadata": {},
   "outputs": [
    {
     "name": "stdout",
     "output_type": "stream",
     "text": [
      "50/50 [==============================] - 19s 369ms/step - loss: 0.1578 - accuracy: 0.9436\n"
     ]
    },
    {
     "data": {
      "text/plain": [
       "[0.15780982375144958, 0.9436089992523193]"
      ]
     },
     "execution_count": 20,
     "metadata": {},
     "output_type": "execute_result"
    }
   ],
   "source": [
    "scores= model.evaluate(test_dataset)\n",
    "scores"
   ]
  },
  {
   "cell_type": "code",
   "execution_count": null,
   "id": "a1b4ca76",
   "metadata": {},
   "outputs": [],
   "source": [
    "for image_batch, label_batch in test_dataset:\n",
    "    image= image_batch[0]\n",
    "    label= int(label_batch[0])\n",
    "    \n",
    "    plt.imshow(image)\n",
    "    plt.axis(\"off\")\n",
    "    plt.show()\n",
    "    \n",
    "    batch_prediction= model.predict(image_batch)\n",
    "       \n",
    "    print(\"Actual image:\", classNames[label])\n",
    "    print(\"Predicted image:\", classNames[np.argmax(batch_prediction[0])])\n",
    "    print(\"Confidence level:\", round(100*(np.max(batch_prediction[0])),2), \"%\")\n",
    "    \n",
    "    break"
   ]
  },
  {
   "cell_type": "code",
   "execution_count": null,
   "id": "2bc2d427",
   "metadata": {},
   "outputs": [],
   "source": [
    "def predict_image(model, img):\n",
    "    image_arr= tf.keras.preprocessing.image.img_to_array(images[i].numpy())\n",
    "    image_arr= tf.expand_dims(image_arr, 0)\n",
    "    \n",
    "    predictions= model.predict(image_arr)\n",
    "    pred_class= classNames[np.argmax(predictions[0])]\n",
    "    confidence= round(100*(np.max(predictions[0])), 2)\n",
    "    \n",
    "    return pred_class, confidence"
   ]
  },
  {
   "cell_type": "code",
   "execution_count": null,
   "id": "0fd5eb85",
   "metadata": {},
   "outputs": [],
   "source": [
    "plt.figure(figsize=(15, 15))\n",
    "\n",
    "for images, labels in test_dataset:\n",
    "    for i in range(12):\n",
    "        plt.subplot(4, 3, i+1)\n",
    "        plt.imshow(images[i])\n",
    "        \n",
    "        predicted_class, confidence_level= predict_model(model, images[i])\n",
    "        actual_class= classNames[int(labels[i])]\n",
    "        \n",
    "        plt.title(\"Actual:\", actual_class, \"Predicted:\", predicted_class, \"Confidence_level:\", confidence_level)"
   ]
  }
 ],
 "metadata": {
  "kernelspec": {
   "display_name": "Python 3 (ipykernel)",
   "language": "python",
   "name": "python3"
  },
  "language_info": {
   "codemirror_mode": {
    "name": "ipython",
    "version": 3
   },
   "file_extension": ".py",
   "mimetype": "text/x-python",
   "name": "python",
   "nbconvert_exporter": "python",
   "pygments_lexer": "ipython3",
   "version": "3.11.5"
  }
 },
 "nbformat": 4,
 "nbformat_minor": 5
}
